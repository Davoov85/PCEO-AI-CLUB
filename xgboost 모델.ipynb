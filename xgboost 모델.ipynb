{
 "cells": [
  {
   "cell_type": "code",
   "execution_count": 2,
   "source": [
    "import numpy as np # linear algebra\r\n",
    "import pandas as pd # data processing, CSV file I/O (e.g. pd.read_csv)\r\n",
    "import os\r\n",
    "import matplotlib.pyplot as plt\r\n",
    "import seaborn as sns\r\n",
    "import xgboost\r\n",
    "from sklearn.model_selection import train_test_split\r\n",
    "from sklearn.ensemble import RandomForestRegressor\r\n",
    "from sklearn.preprocessing import OrdinalEncoder\r\n",
    "from sklearn.metrics import mean_absolute_error\r\n",
    "from sklearn.model_selection import cross_val_score\r\n",
    "from sklearn.model_selection import GridSearchCV\r\n",
    "from sklearn.metrics import accuracy_score\r\n",
    "\r\n",
    "import xgboost\r\n",
    "\r\n",
    "\r\n",
    "\r\n",
    "\r\n",
    "from collections import Counter"
   ],
   "outputs": [],
   "metadata": {}
  },
  {
   "cell_type": "code",
   "execution_count": 3,
   "source": [
    "train = pd.read_csv('./train.csv')\r\n",
    "test = pd.read_csv('./test.csv')"
   ],
   "outputs": [],
   "metadata": {}
  },
  {
   "cell_type": "code",
   "execution_count": 4,
   "source": [
    "numerical_feats = train.dtypes[train.dtypes != \"object\"].index \r\n",
    "print(\"Number of numerical features: \", len(numerical_feats))\r\n",
    "\r\n",
    "categorical_feats = train.dtypes[train.dtypes == \"object\"].index \r\n",
    "print(\"Number of categorical features: \", len(categorical_feats))"
   ],
   "outputs": [
    {
     "output_type": "stream",
     "name": "stdout",
     "text": [
      "Number of numerical features:  2\n",
      "Number of categorical features:  8\n"
     ]
    }
   ],
   "metadata": {}
  },
  {
   "cell_type": "code",
   "execution_count": 5,
   "source": [
    "num_strong_corr = ['pretest']\r\n",
    "\r\n",
    "num_weak_corr = ['n_student']\r\n",
    "\r\n",
    "catg_strong_corr = ['lunch', 'school', 'classroom', 'school_setting']\r\n",
    "\r\n",
    "catg_weak_corr = ['gender', 'teaching_method']"
   ],
   "outputs": [],
   "metadata": {}
  },
  {
   "cell_type": "code",
   "execution_count": 6,
   "source": [
    "std_id_test = test['student_id']\r\n",
    "\r\n",
    "to_drop_num = num_weak_corr\r\n",
    "to_drop_catg = catg_weak_corr\r\n",
    "\r\n",
    "cols_to_drop = ['student_id'] + to_drop_num + to_drop_catg\r\n",
    "\r\n",
    "for df in [train, test]:\r\n",
    "    df.drop(cols_to_drop, inplace = True, axis = 1)"
   ],
   "outputs": [],
   "metadata": {}
  },
  {
   "cell_type": "code",
   "execution_count": 7,
   "source": [
    "y = train.pretest\r\n",
    "X = train.drop(['pretest'], axis=1)"
   ],
   "outputs": [],
   "metadata": {}
  },
  {
   "cell_type": "code",
   "execution_count": 8,
   "source": [
    "s = (X.dtypes == 'object')\r\n",
    "object_cols = list(s[s].index)\r\n",
    "object_cols"
   ],
   "outputs": [
    {
     "output_type": "execute_result",
     "data": {
      "text/plain": [
       "['school', 'school_setting', 'school_type', 'classroom', 'lunch']"
      ]
     },
     "metadata": {},
     "execution_count": 8
    }
   ],
   "metadata": {}
  },
  {
   "cell_type": "code",
   "execution_count": 9,
   "source": [
    "label_X = X.copy()\r\n",
    "label_test = test.copy()\r\n",
    "\r\n",
    "ordinal_encoder = OrdinalEncoder()\r\n",
    "label_X[object_cols] = ordinal_encoder.fit_transform(X[object_cols])\r\n",
    "label_test[object_cols] = ordinal_encoder.transform(test[object_cols])"
   ],
   "outputs": [],
   "metadata": {}
  },
  {
   "cell_type": "code",
   "execution_count": 10,
   "source": [
    "X_train, X_val, y_train, y_val = train_test_split(label_X, y, test_size=0.2, random_state=3)"
   ],
   "outputs": [],
   "metadata": {}
  },
  {
   "cell_type": "code",
   "execution_count": 11,
   "source": [
    "regressor = xgboost.XGBRegressor(colsample_bytree = 0.4603, learning_rate = 0.06, min_child_weight=1.8, max_depth=3, subsample=0.52, n_estimators=2000, random_state=7)\r\n",
    "regressor.fit(X_train, y_train)"
   ],
   "outputs": [
    {
     "output_type": "execute_result",
     "data": {
      "text/plain": [
       "XGBRegressor(base_score=0.5, booster='gbtree', colsample_bylevel=1,\n",
       "             colsample_bynode=1, colsample_bytree=0.4603, gamma=0, gpu_id=-1,\n",
       "             importance_type='gain', interaction_constraints='',\n",
       "             learning_rate=0.06, max_delta_step=0, max_depth=3,\n",
       "             min_child_weight=1.8, missing=nan, monotone_constraints='()',\n",
       "             n_estimators=2000, n_jobs=8, num_parallel_tree=1, random_state=7,\n",
       "             reg_alpha=0, reg_lambda=1, scale_pos_weight=1, subsample=0.52,\n",
       "             tree_method='exact', validate_parameters=1, verbosity=None)"
      ]
     },
     "metadata": {},
     "execution_count": 11
    }
   ],
   "metadata": {}
  },
  {
   "cell_type": "code",
   "execution_count": 12,
   "source": [
    "pred = regressor.predict(X_val)\r\n",
    "mean_absolute_error(pred, y_val)"
   ],
   "outputs": [
    {
     "output_type": "execute_result",
     "data": {
      "text/plain": [
       "2.5812620809900833"
      ]
     },
     "metadata": {},
     "execution_count": 12
    }
   ],
   "metadata": {}
  },
  {
   "cell_type": "code",
   "execution_count": 13,
   "source": [
    "XGB_result = regressor.predict(label_test)"
   ],
   "outputs": [],
   "metadata": {}
  },
  {
   "cell_type": "code",
   "execution_count": 14,
   "source": [
    "sub_xgb = pd.DataFrame()\r\n",
    "sub_xgb['student_id'] = std_id_test\r\n",
    "sub_xgb['pretest'] = XGB_result\r\n",
    "\r\n",
    "sub_xgb.to_csv('xgb.csv', index=False)"
   ],
   "outputs": [],
   "metadata": {}
  }
 ],
 "metadata": {
  "orig_nbformat": 4,
  "language_info": {
   "name": "python",
   "version": "3.8.8",
   "mimetype": "text/x-python",
   "codemirror_mode": {
    "name": "ipython",
    "version": 3
   },
   "pygments_lexer": "ipython3",
   "nbconvert_exporter": "python",
   "file_extension": ".py"
  },
  "kernelspec": {
   "name": "python3",
   "display_name": "Python 3.8.8 64-bit ('base': conda)"
  },
  "interpreter": {
   "hash": "934e9733469ba33743180f4f0a45fb5fa97889cb236cef54782b3750effb92db"
  }
 },
 "nbformat": 4,
 "nbformat_minor": 2
}